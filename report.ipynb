{
 "cells": [
  {
   "cell_type": "markdown",
   "metadata": {},
   "source": [
    "# <p style =\"padding: 8px; background: linear-gradient(45deg, #000000, #ad5aff); color : #F8F8FF; font-family: Arial, sans-serif; font-size: 100%; text-align: center; border-radius: 20px; margin-top: 15px; box-shadow: 3px 3px 10px rgba(0,0,0,0.1); border: 2px solid #333;\"> **Thesis Empirical Results** </p>\n",
    "\n",
    "\n",
    "<p style = \"text-align: justify; font-family: 'Georgia', serif; font-size: 110%; margin: 20px; border: 2px solid #333; padding: 10px; border-radius: 15px;\"> \n",
    "In this notebook, I describe my empirical findings concerning the error term of the Polya-Vinogradov Inequality. At a high level, I generated data for a sample of primes and then analyzed that data. This report will contain the major results, along with a more in-depth description of everything later on.\n",
    "</p>\n",
    "\n",
    "<a id='top'></a>\n",
    "\n",
    "# <p style =\"padding: 8px; background: linear-gradient(45deg, #000000, #ad5aff); color : #F8F8FF; font-family: Arial, sans-serif; font-size: 70%; text-align: center; border-radius: 20px; margin-top: 15px; box-shadow: 3px 3px 10px rgba(0,0,0,0.1); border: 2px solid #333;\"> **Table of Contents** </p>\n",
    "\n",
    "\n",
    "<table style=\"margin-left: auto; margin-right: auto; width: 85%; border-collapse: collapse; font-family: 'Georgia', serif; font-size: 105%; border: 2px solid #333;\">\n",
    "    <tr>\n",
    "        <td>No</td>\n",
    "        <td>Contents</td>\n",
    "        <td>No</td>\n",
    "        <td>Contents</td>\n",
    "    </tr>\n",
    "    <tr>\n",
    "        <td>1</td>\n",
    "        <td><a href=\"#1\"><font color=\"#F8F8FF\"> Importing Libraries </font></a></td>\n",
    "        <td>8</td>\n",
    "        <td><a href=\"#8\"><font color=\"F8F8FF\">Diamond's Weight (Carat)</font></a></td>\n",
    "    </tr>\n",
    "</table>\n"
   ]
  },
  {
   "cell_type": "markdown",
   "metadata": {},
   "source": [
    "<a id='1'></a>\n",
    "\n",
    "# <p style =\"padding: 8px; background: linear-gradient(45deg, #000000, #ad5aff); color : #F8F8FF; font-family: Arial, sans-serif; font-size: 70%; text-align: center; border-radius: 20px; margin-top: 15px; box-shadow: 3px 3px 10px rgba(0,0,0,0.1); border: 2px solid #333;\"> **Problem Background** </p>\n",
    "\n",
    "<p style = \"text-align: justify; font-family: 'Georgia', serif; font-size: 110%; margin: 20px;\"> \n",
    "\n",
    "I'll now briefly introduce the relevant theory, building up to the Polya-Vinogradov inequality and the proposed plan of attack on it. For the remainder of this notebook, let $p$ be an odd prime and $a$ be an integer. Further define $\\#p := \\frac{p-1}{2}$, $[n] := \\{1,2,\\dots,n\\}$. <br>\n",
    "\n",
    "Then, an integer $a$ is a *quadratic residue* modulo $p$ if there exists $x$ such that $$x^2 \\equiv a \\ (\\textrm{mod } p).$$ \n",
    "Otherwise, $a$ is a *quadratic nonresidue*.\n",
    "\n",
    "With quadratic residues and nonresidues in mind we get the following definition: \n",
    "\n",
    "The *Legendre Symbol* is a function of $a$ and $p$ defined a\n",
    "$$\n",
    "\\left( \\frac{a}{b} \\right):= \n",
    "    \\begin{cases} \n",
    "        1 & \\text{ if } a \\text{ is a quadratic residue modulo $p$ and $a \\neq 0 \\ (\\textrm{mod } p)$,} \\\\\n",
    "        -1 & \\text{ if } a \\text{ is a quadratic nonresidue modulo $p$,} \\\\\n",
    "        0 & \\text{ if $a \\ (\\textrm{mod } p).$}\n",
    "    \\end{cases}\n",
    "$$\n",
    "\n",
    "What does the string $\\left( \\frac{1}{p} \\right), \\left( \\frac{2}{p} \\right), \\dots$ look like? Well, it appears seemingly random. One common way to study this behavior is through *character sums*. \n",
    "\n",
    "Define $S_p(x) := \\sum_{a \\leq x} \\left( \\frac{a}{p} \\right)$ to be the character sum of legendre symbols. In other words, the character sum is the partial sum of Legendre symbols.\n",
    "\n",
    "A famous inequality, known as the *Polya-Vinogradov* Inequality, gives us the following bound:\n",
    "$$\n",
    "|S_p(x)| \\leq \\sqrt{p} \\log p.\n",
    "$$\n",
    "\n",
    "One way of going about this is using *Polya's Fourier Expansion*: \n",
    "\n",
    "$$\n",
    "S_p(x) = \\frac{G(p)}{2\\pi i} \\sum_{i \\leq |n| \\leq H} \\left( \\frac{n}{p} \\right) \\frac{[1 - e(\\frac{-nx}{p})]}{n} + O\\left(\\frac{p \\log p}{H}\\right) + O(1),\n",
    "$$\n",
    "\n",
    "where \n",
    "$$\n",
    "G(p) = \\begin{cases}\n",
    "       \\sqrt{p} & \\text{ if } p \\equiv 1 \\ (\\textrm{mod } 4) \\\\\n",
    "       i \\sqrt{p} & \\text{ if } p \\equiv -1 \\ (\\textrm{mod } 4).\n",
    "\\end{cases}\n",
    "$$\n",
    "</p>\n",
    "\n",
    "It turns out if you instantiate $H = (\\log_p)^2$, you get the following:\n",
    "$$\n",
    "S_p(x) = C\\sqrt{p} \\cdot \\log \\log p + O\\left(\\frac{p}{\\log p}\\right). \n",
    "$$\n",
    "\n",
    "Notice that if the error term is smaller than we improve the Polya-Vinogradov Inequality! That is the ultimate goal, and a starting point was to generate numerics to see what this error term actually should look like. For notation sake, I will denote Polya's Fourier Expansion as $F(x)$ and the character sum as $S(x)$ (i.e. assumed subscript $p$)."
   ]
  },
  {
   "cell_type": "markdown",
   "metadata": {},
   "source": [
    "<a id='2'></a>\n",
    "\n",
    "# <p style =\"padding: 8px; background: linear-gradient(45deg, #000000, #ad5aff); color : #F8F8FF; font-family: Arial, sans-serif; font-size: 70%; text-align: center; border-radius: 20px; margin-top: 15px; box-shadow: 3px 3px 10px rgba(0,0,0,0.1); border: 2px solid #333;\"> **Data Description** </p>\n",
    "\n",
    "<p style = \"text-align: justify; font-family: 'Georgia', serif; font-size: 110%; margin: 20px;\"> \n",
    "\n",
    "I collected data for a subset of primes. Specifically around $130$ primes from $100000-200000$, and then $2$ primes that were around $1000000$. For each prime $p$, I compute $S(x)$ and $F(x)$ and collect the following pieces of information on $D(x) := S(x) - F(x)$:\n",
    "- max(D(x))\n",
    "- argmax(D(x))\n",
    "- min(D(x))\n",
    "- argmin(D(x))\n",
    "\n",
    "Additionally, I also create a \"diff plot\", which is simply a scatterplot of $D(x)$ vs. $x$. Once I collected this data I assemble a dataframe with the following columns:\n",
    "- "
   ]
  },
  {
   "cell_type": "markdown",
   "metadata": {},
   "source": []
  }
 ],
 "metadata": {
  "kernelspec": {
   "display_name": "Python 3.9.6 64-bit",
   "language": "python",
   "name": "python3"
  },
  "language_info": {
   "name": "python",
   "version": "3.9.6"
  },
  "orig_nbformat": 4,
  "vscode": {
   "interpreter": {
    "hash": "31f2aee4e71d21fbe5cf8b01ff0e069b9275f58929596ceb00d14d90e3e16cd6"
   }
  }
 },
 "nbformat": 4,
 "nbformat_minor": 2
}
