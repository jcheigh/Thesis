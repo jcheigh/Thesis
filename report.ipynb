{
 "cells": [
  {
   "cell_type": "markdown",
   "metadata": {},
   "source": [
    "# <p style =\"padding: 8px; background: linear-gradient(45deg, #000000, #ad5aff); color : #F8F8FF; font-family: Arial, sans-serif; font-size: 100%; text-align: center; border-radius: 20px; margin-top: 15px; box-shadow: 3px 3px 10px rgba(0,0,0,0.1); border: 2px solid #333;\"> **Thesis Empirical Results** </p>\n",
    "\n",
    "\n",
    "<p style = \"text-align: justify; font-family: 'Georgia', serif; font-size: 110%; margin: 20px; border: 2px solid #333; padding: 10px; border-radius: 15px;\"> \n",
    "In this notebook, I describe my empirical findings concerning the error term of the Polya-Vinogradov Inequality. At a high level, I generated data for a sample of primes and then analyzed that data. This report will contain the major results, along with a more in-depth description of everything later on.\n",
    "</p>\n",
    "\n",
    "<a id='top'></a>\n",
    "\n",
    "# <p style =\"padding: 8px; background: linear-gradient(45deg, #000000, #ad5aff); color : #F8F8FF; font-family: Arial, sans-serif; font-size: 70%; text-align: center; border-radius: 20px; margin-top: 15px; box-shadow: 3px 3px 10px rgba(0,0,0,0.1); border: 2px solid #333;\"> **Table of Contents** </p>\n",
    "\n",
    "\n",
    "<table style=\"margin-left: auto; margin-right: auto; width: 85%; border-collapse: collapse; font-family: 'Georgia', serif; font-size: 105%; border: 2px solid #333;\">\n",
    "    <tr>\n",
    "        <td>No</td>\n",
    "        <td>Contents</td>\n",
    "        <td>No</td>\n",
    "        <td>Contents</td>\n",
    "    </tr>\n",
    "    <tr>\n",
    "        <td>1</td>\n",
    "        <td><a href=\"#1\"><font color=\"#F8F8FF\"> Importing Libraries </font></a></td>\n",
    "        <td>8</td>\n",
    "        <td><a href=\"#8\"><font color=\"F8F8FF\">Diamond's Weight (Carat)</font></a></td>\n",
    "    </tr>\n",
    "</table>\n"
   ]
  },
  {
   "cell_type": "markdown",
   "metadata": {},
   "source": [
    "<a id='1'></a>\n",
    "\n",
    "# <p style =\"padding: 8px; background: linear-gradient(45deg, #000000, #ad5aff); color : #F8F8FF; font-family: Arial, sans-serif; font-size: 70%; text-align: center; border-radius: 20px; margin-top: 15px; box-shadow: 3px 3px 10px rgba(0,0,0,0.1); border: 2px solid #333;\"> **Problem Background** </p>\n",
    "\n",
    "<p style = \"text-align: justify; font-family: 'Georgia', serif; font-size: 110%; margin: 20px;\"> \n",
    "\n",
    "Define $S_p(x) := \\sum_{a \\leq x} \\left( \\frac{a}{p} \\right)$ to be the character sum of legendre symbols. In other words, the character sum is the partial sum of Legendre symbols. A famous inequality, known as the *Polya-Vinogradov* Inequality, gives us the following bound:\n",
    "$$\n",
    "|S_p(x)| \\leq \\sqrt{p} \\log p.\n",
    "$$\n",
    "\n",
    "One way to prove this involves using *Polya's Fourier Expansion*: \n",
    "\n",
    "$$\n",
    "S_p(x) = \\frac{G(p)}{2\\pi i} \\sum_{i \\leq |n| \\leq H} \\left( \\frac{n}{p} \\right) \\frac{[1 - e(\\frac{-nx}{p})]}{n} + O\\left(\\frac{p \\log p}{H}\\right) + O(1),\n",
    "$$\n",
    "\n",
    "where \n",
    "$$\n",
    "G(p) = \\begin{cases}\n",
    "       \\sqrt{p} & \\text{ if } p \\equiv 1 \\ (\\textrm{mod } 4) \\\\\n",
    "       i \\sqrt{p} & \\text{ if } p \\equiv -1 \\ (\\textrm{mod } 4).\n",
    "\\end{cases}\n",
    "$$\n",
    "</p>\n",
    "\n",
    "It turns out if you instantiate $H = (\\log_p)^2$, you get the following:\n",
    "$$\n",
    "S_p(x) = C\\sqrt{p} \\cdot \\log \\log p + O\\left(\\frac{p}{\\log p}\\right). \n",
    "$$\n",
    "Notice that if the error term is smaller than we improve the Polya-Vinogradov Inequality! This is the ambitious ultimate goal, and a starting point was to generate numerics to see what this error term actually looks like, which is what this notebook showcases."
   ]
  },
  {
   "cell_type": "markdown",
   "metadata": {},
   "source": [
    "<a id='2'></a>\n",
    "\n",
    "# <p style =\"padding: 8px; background: linear-gradient(45deg, #000000, #ad5aff); color : #F8F8FF; font-family: Arial, sans-serif; font-size: 70%; text-align: center; border-radius: 20px; margin-top: 15px; box-shadow: 3px 3px 10px rgba(0,0,0,0.1); border: 2px solid #333;\"> **Data Description** </p>\n",
    "\n",
    "<p style = \"text-align: justify; font-family: 'Georgia', serif; font-size: 110%; margin: 20px;\"> \n",
    "\n",
    "First let's go through a bit of notation. We let $S(x)$ be the character sum of legendre symbols, and $F(x)$ be the main term of Polya's Fourier Expansion. We are interested in the max (or min) of $D(x) := S(x) - F(x)$. \n",
    "\n",
    "Specifically, I collected data for around $135$ primes, with $2$ being around $1,000,000$ and the rest being sampled uniformly at random from $100,000- 200,000$. For each prime $p$ I record the following pieces of info:\n",
    "- prime        : p\n",
    "\n",
    "- pos_error    : max(D(x)) \n",
    "- neg_error    : min(D(x)) \n",
    "- x_pos_error  : 100 * (argmax(D(x)) / prime)\n",
    "- x_neg_error  : 100 * (argmin(D(x)) / prime)\n",
    "- max_error    : max(pos_error, -1 $\\cdot$ neg_error)\n",
    "- max_error_ind: 1 if max_error == pos_error else 0\n",
    "- x_max_error  : x_pos_error if max_error_ind == 1 else x_neg_error\n",
    "- mag_diff     : |pos_error + neg_error|\n",
    "- dist_check   : |100 - x_pos_error - x_neg_error|\n",
    "- mod_4        : prime (mod 4)\n",
    "\n",
    "Additionally, I also create a \"diff plot\", which is simply a scatterplot of $D(x)$ vs. $x$. "
   ]
  },
  {
   "cell_type": "markdown",
   "metadata": {},
   "source": []
  }
 ],
 "metadata": {
  "kernelspec": {
   "display_name": "Python 3.9.6 64-bit",
   "language": "python",
   "name": "python3"
  },
  "language_info": {
   "name": "python",
   "version": "3.9.6"
  },
  "orig_nbformat": 4,
  "vscode": {
   "interpreter": {
    "hash": "31f2aee4e71d21fbe5cf8b01ff0e069b9275f58929596ceb00d14d90e3e16cd6"
   }
  }
 },
 "nbformat": 4,
 "nbformat_minor": 2
}
