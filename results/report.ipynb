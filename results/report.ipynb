{
 "cells": [
  {
   "cell_type": "markdown",
   "metadata": {},
   "source": [
    "# <p style =\"padding: 8px; background: linear-gradient(45deg, #000000, #ad5aff); color : #F8F8FF; font-family: Arial, sans-serif; font-size: 100%; text-align: center; border-radius: 20px; margin-top: 15px; box-shadow: 3px 3px 10px rgba(0,0,0,0.1); border: 2px solid #333;\"> <strong> Report Name</strong> </p>\n",
    "\n",
    "\n",
    "<p style = \"text-align: justify; font-family: 'Georgia', serif; font-size: 110%; margin: 20px; border: 2px solid #333; padding: 10px; border-radius: 15px;\"> \n",
    "In this notebook, I do something\n",
    "</p>\n",
    "\n",
    "\n",
    "# <p style =\"padding: 8px; background: linear-gradient(45deg, #000000, #ad5aff); color : #F8F8FF; font-family: Arial, sans-serif; font-size: 70%; text-align: center; border-radius: 20px; margin-top: 15px; box-shadow: 3px 3px 10px rgba(0,0,0,0.1); border: 2px solid #333;\"> <strong> Table of Contents </strong> </p>\n",
    "\n",
    "\n",
    "<table style=\"margin-left: auto; margin-right: auto; width: 85%; border-collapse: collapse; font-family: 'Georgia', serif; font-size: 105%; border: 2px solid #333;\">\n",
    "    <tr>\n",
    "        <td>No</td>\n",
    "        <td>Contents</td>\n",
    "        <td>No</td>\n",
    "        <td>Contents</td>\n",
    "    </tr>\n",
    "    <tr>\n",
    "        <td>1</td>\n",
    "        <td><a href=\"#1\"> Problem Background</a></td>\n",
    "        <td>6</td>\n",
    "        <td><a href=\"#6\">Investigating Magnitude Diff/Dist Check</a></td>\n",
    "    </tr>\n",
    "    <tr>\n",
    "        <td>2</td>\n",
    "        <td><a href=\"#2\">Data Description</a></td>\n",
    "        <td>7</td>\n",
    "        <td><a href=\"#7\">Investigating Prime Mod 4</a></td>\n",
    "    </tr>\n",
    "    <tr>\n",
    "        <td>3</td>\n",
    "        <td><a href=\"#3\"> Data Setup</a></td>\n",
    "        <td>8</td>\n",
    "        <td><a href=\"#8\">Difference List Analysis</a></td>\n",
    "    </tr>\n",
    "    <tr>\n",
    "        <td>4</td>\n",
    "        <td><a href=\"#4\"> Diff Plot Examples</a></td>\n",
    "        <td>9</td>\n",
    "        <td><a href=\"#9\">Conclusion</a></td>\n",
    "    </tr>\n",
    "    <tr>\n",
    "        <td>5</td>\n",
    "        <td><a href=\"#5\">Basic EDA</a></td>\n",
    "        <td></td> \n",
    "    </tr>\n",
    "</table>\n"
   ]
  },
  {
   "cell_type": "markdown",
   "metadata": {},
   "source": [
    "$S_p(x) - M_p(x) = E_p(x)$"
   ]
  },
  {
   "cell_type": "markdown",
   "metadata": {},
   "source": [
    "<a id='1'></a>\n",
    "\n",
    "# <p style =\"padding: 8px; background: linear-gradient(45deg, #000000, #ad5aff); color : #F8F8FF; font-family: Arial, sans-serif; font-size: 70%; text-align: center; border-radius: 20px; margin-top: 15px; box-shadow: 3px 3px 10px rgba(0,0,0,0.1); border: 2px solid #333;\"> <strong> Problem Background </strong> </p>\n",
    "\n",
    "<p style = \"text-align: justify; font-family: 'Georgia', serif; font-size: 110%; margin: 20px;\"> \n",
    "\n",
    "Define $S_p(x) := \\sum_{a \\leq x} \\left( \\frac{a}{p} \\right)$ to be the character sum of legendre symbols. In other words, the character sum is the partial sum of Legendre symbols. A famous inequality, known as the <em> Polya-Vinogradov </em> Inequality, gives us the following bound:\n",
    "$$\n",
    "|S_p(x)| \\leq \\sqrt{p} \\log p.\n",
    "$$\n",
    "\n",
    "One way to prove this involves using <em> Polya's Fourier Expansion </em>: \n",
    "\n",
    "$$\n",
    "S_p(x) = \\frac{G(p)}{2\\pi i} \\sum_{i \\leq |n| \\leq H} \\left( \\frac{n}{p} \\right) \\frac{[1 - e(\\frac{-nx}{p})]}{n} + O\\left(\\frac{p \\log p}{H}\\right) + O(1),\n",
    "$$\n",
    "\n",
    "where \n",
    "$$\n",
    "G(p) = \\begin{cases}\n",
    "       \\sqrt{p} & \\text{ if } p \\equiv 1 \\ (\\textrm{mod } 4) \\\\\n",
    "       i \\sqrt{p} & \\text{ if } p \\equiv -1 \\ (\\textrm{mod } 4).\n",
    "\\end{cases}\n",
    "$$\n",
    "</p>\n",
    "\n",
    "It turns out if you instantiate $H = (\\log p)^2$, you get the following:\n",
    "$$\n",
    "S_p(x) = C\\sqrt{p} \\cdot \\log \\log p + O\\left(\\frac{p}{\\log p}\\right). \n",
    "$$\n",
    "Notice that if the error term is smaller than we improve the Polya-Vinogradov Inequality! This is the ambitious ultimate goal, and a starting point was to generate numerics to see what this error term actually looks like, which is what this notebook showcases."
   ]
  },
  {
   "cell_type": "code",
   "execution_count": 19,
   "metadata": {},
   "outputs": [],
   "source": [
    "import random\n",
    "import numpy as np\n",
    "import matplotlib.pyplot as plt\n"
   ]
  },
  {
   "cell_type": "code",
   "execution_count": 24,
   "metadata": {},
   "outputs": [
    {
     "name": "stdout",
     "output_type": "stream",
     "text": [
      "23.559274656913782\n",
      "17.86951\n"
     ]
    },
    {
     "data": {
      "image/png": "[encoded data removed]",
      "text/plain": [
       "<Figure size 432x288 with 1 Axes>"
      ]
     },
     "metadata": {
      "needs_background": "light"
     },
     "output_type": "display_data"
    }
   ],
   "source": [
    "\n",
    "cards = [1,2,3,4,5,6,7,8,9,10,0,0,0]\n",
    "distribution = [np.prod(random.choices(cards,k=2)) for _ in range(100000)]\n",
    "plt.hist(distribution, bins=30)\n",
    "print(np.std(distribution))\n",
    "print(np.mean(distribution))\n"
   ]
  },
  {
   "cell_type": "code",
   "execution_count": null,
   "metadata": {},
   "outputs": [],
   "source": []
  },
  {
   "cell_type": "code",
   "execution_count": null,
   "metadata": {},
   "outputs": [],
   "source": []
  }
 ],
 "metadata": {
  "kernelspec": {
   "display_name": "Python 3.9.12 ('base')",
   "language": "python",
   "name": "python3"
  },
  "language_info": {
   "codemirror_mode": {
    "name": "ipython",
    "version": 3
   },
   "file_extension": ".py",
   "mimetype": "text/x-python",
   "name": "python",
   "nbconvert_exporter": "python",
   "pygments_lexer": "ipython3",
   "version": "3.9.12"
  },
  "orig_nbformat": 4,
  "vscode": {
   "interpreter": {
    "hash": "40d3a090f54c6569ab1632332b64b2c03c39dcf918b08424e98f38b5ae0af88f"
   }
  }
 },
 "nbformat": 4,
 "nbformat_minor": 2
}
