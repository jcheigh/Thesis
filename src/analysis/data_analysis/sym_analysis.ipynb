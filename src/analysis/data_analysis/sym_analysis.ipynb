{
 "cells": [
  {
   "cell_type": "code",
   "execution_count": 2,
   "metadata": {},
   "outputs": [],
   "source": [
    "import os \n",
    "import re \n",
    "import numpy as np\n",
    "import ast\n",
    "\n",
    "MAIN_PATH = os.path.join(\"/Users\", \"jcheigh\", \"Thesis\")\n",
    "DATA_PATH = os.path.join(MAIN_PATH, \"data\")\n",
    "path = f\"{DATA_PATH}/symmetry/\"\n",
    "\n",
    "def process_list(data_list):\n",
    "    processed_list = []\n",
    "\n",
    "    for item in data_list:\n",
    "        # If the item starts with a '(', consider it a tuple\n",
    "        if item.startswith('('):\n",
    "            try:\n",
    "                # Safely evaluate the item as a tuple\n",
    "                processed_tuple = ast.literal_eval(item)\n",
    "                processed_list.append(processed_tuple)\n",
    "            except ValueError:\n",
    "                # If there's an error, just append the original string\n",
    "                processed_list.append(item)\n",
    "        else:\n",
    "            try:\n",
    "                # Convert the item to a float\n",
    "                processed_list.append(float(item))\n",
    "            except ValueError:\n",
    "                # If there's an error, just append the original string\n",
    "                processed_list.append(item)\n",
    "\n",
    "    return processed_list\n",
    "\n",
    "\n",
    "symmetry_dict = {}\n",
    "def populate_symmetry_dict(path):\n",
    "    # Regex pattern to extract prime and delta from the filename\n",
    "    pattern = r\"symmetry\\(p=(?P<prime>\\d+),d=(?P<delta>\\d+)\\)\"\n",
    "\n",
    "    # List all files in the specified directory\n",
    "    for filename in os.listdir(path):\n",
    "        # Match the filename with the regex pattern\n",
    "        match = re.search(pattern, filename)\n",
    "        if match:\n",
    "            prime = int(match.group(\"prime\"))\n",
    "            delta = int(match.group(\"delta\"))\n",
    "\n",
    "            # Read the file and get the list of elements\n",
    "            with open(os.path.join(path, filename), 'r') as file:\n",
    "                elements = [line.strip() for line in file.readlines()]\n",
    "\n",
    "            elements = process_list(elements)\n",
    "            # Update the global dictionary\n",
    "            symmetry_dict[(prime, delta)] = elements\n",
    "\n",
    "    return symmetry_dict\n",
    "\n",
    "symmetry_dict = populate_symmetry_dict(path)"
   ]
  },
  {
   "cell_type": "code",
   "execution_count": 3,
   "metadata": {},
   "outputs": [],
   "source": [
    "def get_means():\n",
    "    means = {}\n",
    "    for (prime, delta), lst in symmetry_dict.items():\n",
    "        cons, main = lst[0], lst[1:]\n",
    "        means[(prime, delta)] = cons * sum(np.prod(term) for term in main)\n",
    "\n",
    "    return means \n",
    "    \n",
    "means = get_means()"
   ]
  },
  {
   "cell_type": "code",
   "execution_count": 4,
   "metadata": {},
   "outputs": [
    {
     "data": {
      "text/plain": [
       "{(623017, 124603): -0.04849012523960489,\n",
       " (617647, 61764): 0.02515084074304438,\n",
       " (619117, 309558): 7.9322382724442e-06,\n",
       " (617647, 123529): -0.0016330967124406938,\n",
       " (623017, 311508): -6.51629779320639e-07,\n",
       " (530911, 53091): 0.006836139662676443,\n",
       " (589349, 5): -0.00023275009759766795,\n",
       " (715453, 143090): -0.021718711876481667,\n",
       " (623017, 62301): 0.009290221415167433,\n",
       " (655807, 131161): 0.039809195353997746,\n",
       " (715453, 7154): 0.016868920944946648,\n",
       " (715453, 5): -0.00017328486660579686,\n",
       " (701699, 140339): -0.023249778041492888,\n",
       " (637271, 127454): -0.006020710297196595,\n",
       " (530911, 5): 0.00020773546997458577,\n",
       " (530911, 5309): 0.018288465339474688,\n",
       " (655807, 65580): -0.03977973349612786,\n",
       " (615869, 6158): 0.04265969106374136,\n",
       " (615869, 307934): 2.294520800846634e-05,\n",
       " (637271, 5): 0.00030049175674883065,\n",
       " (619117, 61911): 0.01958482067005115,\n",
       " (655807, 6558): 0.051597958516523476,\n",
       " (715453, 357726): -4.827931831438084e-06,\n",
       " (637271, 6372): 0.013941014568566659,\n",
       " (637271, 63727): -0.007364355552021898,\n",
       " (701699, 350849): 1.6140999671151435e-06,\n",
       " (530911, 265455): -4.244109944079032e-05,\n",
       " (701699, 70169): -0.015034851964367834,\n",
       " (701699, 7016): -0.04627108765185624,\n",
       " (589349, 294674): 9.276781489869976e-06,\n",
       " (623017, 6230): 0.03136121523094043,\n",
       " (655807, 327903): -1.3889411342364647e-05,\n",
       " (615869, 61586): 0.0020951535367226683,\n",
       " (617647, 6176): -0.029600817858004426,\n",
       " (617647, 308823): 3.1971736112541537e-06,\n",
       " (715453, 71545): -0.00931867371872767,\n",
       " (615869, 123173): 0.01174253038474094,\n",
       " (530911, 106182): 0.009053418739919057,\n",
       " (617647, 5): 9.824527962584039e-05,\n",
       " (589349, 58934): 0.01832950269831715,\n",
       " (615869, 5): 0.0001077681938372873,\n",
       " (619117, 5): 2.5667166288142314e-05,\n",
       " (589349, 5893): 0.036247547487034466,\n",
       " (623017, 5): 5.941311020063293e-05,\n",
       " (637271, 318635): -7.453681990528079e-05,\n",
       " (655807, 5): -0.00017059912207823726,\n",
       " (701699, 5): 6.274643971802848e-05,\n",
       " (619117, 6191): 0.055162999361327354,\n",
       " (619117, 123823): -0.005754474207996878,\n",
       " (589349, 117869): 0.0043274583011665615}"
      ]
     },
     "execution_count": 4,
     "metadata": {},
     "output_type": "execute_result"
    }
   ],
   "source": [
    "means"
   ]
  },
  {
   "cell_type": "code",
   "execution_count": null,
   "metadata": {},
   "outputs": [],
   "source": []
  }
 ],
 "metadata": {
  "kernelspec": {
   "display_name": "Python 3.9.12 ('base')",
   "language": "python",
   "name": "python3"
  },
  "language_info": {
   "codemirror_mode": {
    "name": "ipython",
    "version": 3
   },
   "file_extension": ".py",
   "mimetype": "text/x-python",
   "name": "python",
   "nbconvert_exporter": "python",
   "pygments_lexer": "ipython3",
   "version": "3.9.12"
  },
  "orig_nbformat": 4,
  "vscode": {
   "interpreter": {
    "hash": "40d3a090f54c6569ab1632332b64b2c03c39dcf918b08424e98f38b5ae0af88f"
   }
  }
 },
 "nbformat": 4,
 "nbformat_minor": 2
}
